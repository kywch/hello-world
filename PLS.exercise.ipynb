{
 "cells": [
  {
   "cell_type": "markdown",
   "metadata": {},
   "source": [
    "## A mini example from \"Partial Least Square (PLS) methods for neuroimaging: A tutorial and review\" by Krishnan, Williams, McIntosh, & Adbi (2011) NeuroImage\n",
    "\n",
    "### Behavioral PLSC\n",
    "\n",
    "In order to illustrate the various versions of PLS we have chosen a hypothetical neuroimaging experiment that analyze data from participants grouped into three experimental conditions comprising two clinical populations AD, PD, and age-matched normal control group. Each participant is scanned only once using PET imaging. Voxel activity values from the PET scans are collected seperately for each participant (X). The scans are coregistered to Talairach coordinates so that voxels are in the same location\n",
    "\n",
    "Here, we have 3 participants per clinical category (hence a total of 9)"
   ]
  },
  {
   "cell_type": "code",
   "execution_count": 1,
   "metadata": {
    "collapsed": false
   },
   "outputs": [
    {
     "name": "stdout",
     "output_type": "stream",
     "text": [
      "X =\r\n",
      "\r\n",
      "     2     5     6     1     9     1     7     6     2     1     7     3\r\n",
      "     4     1     5     8     8     7     2     8     6     4     8     2\r\n",
      "     5     8     7     3     7     1     7     4     5     1     4     3\r\n",
      "     3     3     7     6     1     1    10     2     2     1     7     4\r\n",
      "     2     3     8     7     1     6     9     1     8     8     1     6\r\n",
      "     1     7     3     1     1     3     1     8     1     3     9     5\r\n",
      "     9     0     7     1     8     7     4     2     3     6     2     7\r\n",
      "     8     0     6     5     9     7     4     4     2    10     3     8\r\n",
      "     7     7     4     5     7     6     7     6     5     4     8     8\n"
     ]
    }
   ],
   "source": [
    "% The PET results are: (row: participants, column: voxel response) \n",
    "\n",
    "X1 = [2 5 6 1 9 1 7 6 2 1 7 3; ...  % AD 1\n",
    "      4 1 5 8 8 7 2 8 6 4 8 2; ...  % AD 2\n",
    "      5 8 7 3 7 1 7 4 5 1 4 3];     % AD 3\n",
    "\n",
    "X2 = [3 3 7 6 1 1 10 2 2 1 7 4; ... % PD 1\n",
    "      2 3 8 7 1 6 9 1 8 8 1 6; ...  % PD 2\n",
    "      1 7 3 1 1 3 1 8 1 3 9 5];     % PD 3\n",
    "\n",
    "X3 = [9 0 7 1 8 7 4 2 3 6 2 7; ...  % NC 1\n",
    "      8 0 6 5 9 7 4 4 2 10 3 8; ... % NC 2\n",
    "      7 7 4 5 7 6 7 6 5 4 8 8];     % NC 3\n",
    "      \n",
    "X = [X1; X2; X3]"
   ]
  },
  {
   "cell_type": "markdown",
   "metadata": {},
   "source": [
    "Behavioral PLS correlation analyzes the relationship between the behavioral characteristics of groups and their functional brain activity Matrix X contains voxel activity, and Matrix Y vontains various demographic (e.g. age) and/or behavioral data. \n",
    "\n",
    "Here, participants underwent behavioral testing using a memory test for word recall. The behavioral measures were the number of words correctly recalled and the average reaction time (in ms)."
   ]
  },
  {
   "cell_type": "code",
   "execution_count": 2,
   "metadata": {
    "collapsed": false
   },
   "outputs": [
    {
     "name": "stdout",
     "output_type": "stream",
     "text": [
      "Y =\r\n",
      "\r\n",
      "    15   600\r\n",
      "    19   520\r\n",
      "    18   545\r\n",
      "    22   426\r\n",
      "    21   404\r\n",
      "    23   411\r\n",
      "    29   326\r\n",
      "    30   309\r\n",
      "    30   303\n"
     ]
    }
   ],
   "source": [
    "% The behavioral data are: (row: the same participants, column: behavioral results) \n",
    "\n",
    "Y1 = [15 600; ... % AD 1, # correct, RT\n",
    "      19 520; ... % AD 2\n",
    "      18 545];    % AD 3\n",
    "\n",
    "Y2 = [22 426; ... % PD 1\n",
    "      21 404; ... % PD 2\n",
    "      23 411];    % PD 3\n",
    "\n",
    "Y3 = [29 326; ... % NC 1\n",
    "      30 309; ... % NC 2\n",
    "      30 303];    % NC 3\n",
    "\n",
    "Y = [Y1; Y2; Y3]"
   ]
  },
  {
   "cell_type": "markdown",
   "metadata": {},
   "source": [
    "Both X and Y are centered and normalized within each condition (i.e. each X_n and Y_n is centered and normalized independently, and the sum of squares of a column in one condition is equal to 1. Note when all values are equal to their mean, they are all normalized to 0)."
   ]
  },
  {
   "cell_type": "code",
   "execution_count": 3,
   "metadata": {
    "collapsed": false
   },
   "outputs": [
    {
     "name": "stdout",
     "output_type": "stream",
     "text": [
      "X =\r\n",
      "\r\n",
      "   -0.7715    0.0671         0   -0.5883    0.7071   -0.4082    0.4082         0   -0.7926   -0.4082    0.2265    0.4082\r\n",
      "    0.1543   -0.7383   -0.7071    0.7845         0    0.8165   -0.8165    0.7071    0.5661    0.8165    0.5661   -0.8165\r\n",
      "    0.6172    0.6712    0.7071   -0.1961   -0.7071   -0.4082    0.4082   -0.7071    0.2265   -0.4082   -0.7926    0.4082\r\n",
      "    0.7071   -0.4082    0.2673    0.2933         0   -0.6556    0.4778   -0.3113   -0.3113   -0.5883    0.2265   -0.7071\r\n",
      "         0   -0.4082    0.5345    0.5133         0    0.7493    0.3345   -0.4981    0.8093    0.7845   -0.7926    0.7071\r\n",
      "   -0.7071    0.8165   -0.8018   -0.8066         0   -0.0937   -0.8123    0.8093   -0.4981   -0.1961    0.5661         0\r\n",
      "    0.7071   -0.4082    0.6172   -0.8165         0    0.4082   -0.4082   -0.7071   -0.1543   -0.1543   -0.5133   -0.8165\r\n",
      "         0   -0.4082    0.1543    0.4082    0.7071    0.4082   -0.4082         0   -0.6172    0.7715   -0.2933    0.4082\r\n",
      "   -0.7071    0.8165   -0.7715    0.4082   -0.7071   -0.8165    0.8165    0.7071    0.7715   -0.6172    0.8066    0.4082\r\n",
      "\r\n",
      "\r\n",
      "Y =\r\n",
      "\r\n",
      "   -0.7926    0.7775\r\n",
      "    0.5661   -0.6047\r\n",
      "    0.2265   -0.1728\r\n",
      "         0    0.7759\r\n",
      "   -0.7071   -0.6081\r\n",
      "    0.7071   -0.1678\r\n",
      "   -0.8165    0.7903\r\n",
      "    0.4082   -0.2173\r\n",
      "    0.4082   -0.5729\n"
     ]
    }
   ],
   "source": [
    "normMat = @(mat) ( zscore(mat) ./  sqrt(length(mat(:,1))-1) );\n",
    "\n",
    "X = [normMat(X1); normMat(X2); normMat(X3)]\n",
    "Y = [normMat(Y1); normMat(Y2); normMat(Y3)]\n",
    "\n",
    "% This normalization gives the following matrices:"
   ]
  },
  {
   "cell_type": "markdown",
   "metadata": {},
   "source": [
    "All the condition-wise matrices of correlations are stacked one on top of the other to form the combined matirx of correations R, which is the main input for the SVD. R matrix contains the correlation of each of the J voxels in X with each of the K behavioral measures in Y within each of the N conditions. Therefore, R will have N x K rows and J columns"
   ]
  },
  {
   "cell_type": "code",
   "execution_count": 24,
   "metadata": {
    "collapsed": false
   },
   "outputs": [
    {
     "name": "stdout",
     "output_type": "stream",
     "text": [
      "R =\r\n",
      "\r\n",
      "    0.8386   -0.3192   -0.2402    0.8660   -0.7206    0.6934   -0.6934    0.2402    1.0000    0.6934   -0.0385   -0.6934\r\n",
      "   -0.7998    0.3827    0.3054   -0.8979    0.6719   -0.7406    0.7406   -0.3054   -0.9977   -0.7406   -0.0293    0.7406\r\n",
      "   -0.5000    0.8660   -0.9449   -0.9333         0   -0.5960   -0.8109    0.9245   -0.9245   -0.6934    0.9608   -0.5000\r\n",
      "    0.6673   -0.2055    0.0168    0.0507         0   -0.9486    0.3036   -0.0744   -0.6502   -0.9007    0.5627   -0.9787\r\n",
      "   -0.8660    0.5000   -0.7559    1.0000         0   -0.5000    0.5000    0.8660    0.1890    0.1890    0.6286    1.0000\r\n",
      "    0.9639   -0.7017    0.8963   -0.9679    0.2515    0.7017   -0.7017   -0.9639   -0.4298    0.0640   -0.8040   -0.9679\r\n",
      "\r\n",
      "\r\n",
      "U =\r\n",
      "\r\n",
      "     1\r\n",
      "\r\n",
      "\r\n",
      "S =\r\n",
      "\r\n",
      "    3.7913         0         0         0         0         0         0         0         0         0         0         0\r\n",
      "\r\n",
      "\r\n",
      "V =\r\n",
      "\r\n",
      "   -0.1391    0.2761   -0.5120    0.2460   -0.1901   -0.1062   -0.2649    0.5356    0.0698    0.0498    0.4091   -0.0510\r\n",
      "    0.2761    0.9331    0.1241   -0.0596    0.0461    0.0257    0.0642   -0.1298   -0.0169   -0.0121   -0.0992    0.0124\r\n",
      "   -0.5120    0.1241    0.7699    0.1106   -0.0854   -0.0477   -0.1191    0.2407    0.0314    0.0224    0.1839   -0.0229\r\n",
      "    0.2460   -0.0596    0.1106    0.9469    0.0411    0.0229    0.0572   -0.1157   -0.0151   -0.0108   -0.0884    0.0110\r\n",
      "   -0.1901    0.0461   -0.0854    0.0411    0.9683   -0.0177   -0.0442    0.0894    0.0116    0.0083    0.0683   -0.0085\r\n",
      "   -0.1062    0.0257   -0.0477    0.0229   -0.0177    0.9901   -0.0247    0.0499    0.0065    0.0046    0.0381   -0.0048\r\n",
      "   -0.2649    0.0642   -0.1191    0.0572   -0.0442   -0.0247    0.9384    0.1246    0.0162    0.0116    0.0951   -0.0119\r\n",
      "    0.5356   -0.1298    0.2407   -0.1157    0.0894    0.0499    0.1246    0.7481   -0.0328   -0.0234   -0.1924    0.0240\r\n",
      "    0.0698   -0.0169    0.0314   -0.0151    0.0116    0.0065    0.0162   -0.0328    0.9957   -0.0031   -0.0251    0.0031\r\n",
      "    0.0498   -0.0121    0.0224   -0.0108    0.0083    0.0046    0.0116   -0.0234   -0.0031    0.9978   -0.0179    0.0022\r\n",
      "    0.4091   -0.0992    0.1839   -0.0884    0.0683    0.0381    0.0951   -0.1924   -0.0251   -0.0179    0.8531    0.0183\r\n",
      "   -0.0510    0.0124   -0.0229    0.0110   -0.0085   -0.0048   -0.0119    0.0240    0.0031    0.0022    0.0183    0.9977\r\n",
      "\r\n",
      "\r\n",
      "ans =\r\n",
      "\r\n",
      "   -0.1391    0.2761   -0.5120    0.2460   -0.1901   -0.1062   -0.2649    0.5356    0.0698    0.0498    0.4091   -0.0510\n"
     ]
    }
   ],
   "source": [
    "% The matrix of correlations for each condition n is then computed as ...\n",
    "% note that these are different to normMat(Y)' * normMat(X)\n",
    "\n",
    "R1 = normMat(Y1)' * normMat(X1);\n",
    "R2 = normMat(Y2)' * normMat(X2);\n",
    "R3 = normMat(Y3)' * normMat(X3);\n",
    "\n",
    "R = [R1; R2; R3]\n",
    "\n",
    "[U, S, V] = svd(Y(:,1)' * X)\n",
    "(Y(:,1)' * X) / 3.7913"
   ]
  },
  {
   "cell_type": "markdown",
   "metadata": {},
   "source": [
    "Excerpt from https://www.ling.ohio-state.edu/~kbaker/pubs/Singular_Value_Decomposition_Tutorial.pdf (p.14)\n",
    "\n",
    "SVD is used : (1) for transforming correlated variables into a set of uncorrelated ones that better expose the various relationships among the original data, (2) for identifying and ordering the dimensions along which data points exhibit the most variation, (3) once we have identified where the most variation is, it's possible to find the best approximation of the original data points using fewer dimensions.\n",
    "\n",
    "... taking a high dimensional, highly variable set of data points and reducing it to a lower dimensional space that exposes the substructure of the original data more clearly and orders it from most variation to the least. "
   ]
  },
  {
   "cell_type": "code",
   "execution_count": 5,
   "metadata": {
    "collapsed": false
   },
   "outputs": [
    {
     "name": "stdout",
     "output_type": "stream",
     "text": [
      "U =\r\n",
      "\r\n",
      "   -0.4104    0.4176   -0.3706   -0.0191    0.1353   -0.7079\r\n",
      "    0.4100   -0.4358    0.4023   -0.0038    0.1441   -0.6777\r\n",
      "    0.4274   -0.2475   -0.7351    0.4636   -0.0144   -0.0243\r\n",
      "    0.0700   -0.3076   -0.3958   -0.8590   -0.0770   -0.0064\r\n",
      "    0.4449    0.4689    0.0618   -0.0928   -0.7393   -0.1524\r\n",
      "   -0.5273   -0.5098    0.0050    0.1955   -0.6389   -0.1251\r\n",
      "\r\n",
      "\r\n",
      "ans =\r\n",
      "\r\n",
      "    3.8040         0         0         0         0         0\r\n",
      "         0    3.2473         0         0         0         0\r\n",
      "         0         0    2.4615         0         0         0\r\n",
      "         0         0         0    1.6372         0         0\r\n",
      "         0         0         0         0    0.3303         0\r\n",
      "         0         0         0         0         0    0.0773\r\n",
      "\r\n",
      "\r\n",
      "ans =\r\n",
      "\r\n",
      "   -0.4555   -0.0863   -0.2348   -0.3355   -0.0653   -0.4186\r\n",
      "    0.3249    0.0434   -0.1038    0.2438    0.2845   -0.5375\r\n",
      "   -0.2597   -0.2513    0.3484   -0.1244    0.0306   -0.1432\r\n",
      "   -0.0430    0.5946    0.0165   -0.4712   -0.3744   -0.1751\r\n",
      "    0.1153   -0.2223    0.2188    0.0369   -0.4883    0.3009\r\n",
      "   -0.3948    0.1415    0.0939    0.4347   -0.0302    0.2590\r\n",
      "    0.2248    0.0268    0.4299   -0.4946    0.2419    0.2359\r\n",
      "    0.2786    0.2848   -0.3304    0.1345   -0.1318    0.0467\r\n",
      "   -0.2496    0.4893    0.0708    0.0079    0.5745    0.2565\r\n",
      "   -0.2359    0.3440    0.1313    0.2667   -0.3458   -0.0410\r\n",
      "    0.3043    0.0894   -0.3622   -0.1543   -0.0535    0.3236\r\n",
      "    0.3315    0.2386    0.5553    0.2061   -0.0771   -0.3116\n"
     ]
    }
   ],
   "source": [
    "% The SVD of R is computed as:\n",
    "[U, S, V] = svd(R);\n",
    "\n",
    "% where U is the N x K rows and L colum matrix of the saliences for the behavioral measures\n",
    "% where L is the rank of R_behavior\n",
    "% Behavioral saliences (i.e. U) indicate task-dependent differences in the\n",
    "% brain-behavior correlation (i.e. the interaction of the experimental conditions\n",
    "% with behavioral measures).\n",
    "U\n",
    "\n",
    "% where S is the diagonal matrix of singular values\n",
    "% in decreasing order\n",
    "S(1:6,1:6)\n",
    "\n",
    "% where V is the J x L matrix of saliences for brain activity\n",
    "% Brain saliences (i.e. V) indicate voxel-dependent differences in the brain behavior correlation.\n",
    "V(:,1:6)"
   ]
  },
  {
   "cell_type": "markdown",
   "metadata": {},
   "source": [
    "#### Somehow, the sign is reversed in U and V, so the L_X and L_Y also have inverse signs ... \n"
   ]
  },
  {
   "cell_type": "code",
   "execution_count": 6,
   "metadata": {
    "collapsed": false
   },
   "outputs": [
    {
     "name": "stdout",
     "output_type": "stream",
     "text": [
      "L_X =\r\n",
      "\r\n",
      "    1.2313   -0.8950    0.4912    0.1331   -0.3023    0.3528\r\n",
      "   -0.9015    1.3076   -1.2120    0.3072   -0.7752    0.8973\r\n",
      "   -0.3298   -0.4126    0.7208   -0.4403    1.0775   -1.2501\r\n",
      "   -0.2063   -0.6433   -0.3529   -1.4114   -0.0206    0.0001\r\n",
      "   -1.0466    0.8900    1.4559    0.1690    0.0137    0.0013\r\n",
      "    1.2529   -0.2467   -1.1030    1.2424    0.0069   -0.0014\r\n",
      "   -1.3817   -1.2432   -0.1243    0.1240    0.1994    0.0096\r\n",
      "   -0.3436    0.1104    0.5110    0.4247   -1.3578   -0.0640\r\n",
      "    1.7253    1.1328   -0.3867   -0.5487    1.1584    0.0544\n"
     ]
    }
   ],
   "source": [
    "% from the saliences, we compute the latent variables L_X and L_Y\n",
    "\n",
    "% brain scores:\n",
    "L_X = X * V(:,1:6)\n"
   ]
  },
  {
   "cell_type": "markdown",
   "metadata": {},
   "source": [
    "Behavior scores: its computation is slightly more complicated due to the block structure. The product the rows of Y and U corresponding to each experimental condition separately gives the latent variables for behavior score per condition. These condition-wise behavior scores are stacked to form the combined behavior scores."
   ]
  },
  {
   "cell_type": "code",
   "execution_count": 7,
   "metadata": {
    "collapsed": false
   },
   "outputs": [
    {
     "name": "stdout",
     "output_type": "stream",
     "text": [
      "L_Y =\r\n",
      "\r\n",
      "    0.6440   -0.6699    0.6065    0.0122    0.0048    0.0342\r\n",
      "   -0.4802    0.5000   -0.4531   -0.0086   -0.0106    0.0091\r\n",
      "   -0.1638    0.1699   -0.1534   -0.0037    0.0057   -0.0432\r\n",
      "    0.0543   -0.2387   -0.3071   -0.6665   -0.0597   -0.0049\r\n",
      "   -0.3448    0.3621    0.7604    0.1946    0.0570    0.0210\r\n",
      "    0.2905   -0.1234   -0.4534    0.4719    0.0027   -0.0161\r\n",
      "   -0.7799   -0.7857   -0.0465    0.2302    0.0988    0.0256\r\n",
      "    0.2962    0.3022    0.0242   -0.0804   -0.1630   -0.0350\r\n",
      "    0.4837    0.4835    0.0224   -0.1499    0.0642    0.0095\n"
     ]
    }
   ],
   "source": [
    "% behavior scores\n",
    "\n",
    "L_Y1 = Y(1:3,:) * U(1:2,:);\n",
    "L_Y2 = Y(4:6,:) * U(3:4,:);\n",
    "L_Y3 = Y(7:9,:) * U(5:6,:);\n",
    "L_Y = [L_Y1; L_Y2; L_Y3]"
   ]
  },
  {
   "cell_type": "markdown",
   "metadata": {},
   "source": [
    "The latent variables for brain activity (L_X) and behavior (L_Y) are not typically illustrated. However, PCA style plots show the effect of two latent variables at once. In this example, the PCA style plot of L_X shows the first brain scores (X-axis) separates AD1, PD3, and NC3 from the other participants, while the second brain scores (Y-axis) separates AD2, PD2, NC2, and NC3 from the other participants. "
   ]
  },
  {
   "cell_type": "code",
   "execution_count": 8,
   "metadata": {
    "collapsed": false
   },
   "outputs": [
    {
     "data": {
      "image/png": "[encoded data removed]",
      "text/plain": [
       "<IPython.core.display.Image object>"
      ]
     },
     "metadata": {},
     "output_type": "display_data"
    }
   ],
   "source": [
    "sbjLabel = {'AD1', 'AD2', 'AD3', 'PD1', 'PD2', 'PD3', 'NC1', 'NC2', 'NC3'};\n",
    "\n",
    "figure; \n",
    "plot([-3 3], [0 0], 'k:'); hold on;\n",
    "plot([0 0], [-3 3], 'k:');\n",
    "for ii = 1:9\n",
    "    text(L_X(ii,1), L_X(ii,2), sbjLabel{ii});\n",
    "end\n",
    "\n",
    "xlim([-2 2]);\n",
    "ylim([-2 2]);\n",
    "\n",
    "xlabel('The first brain score');\n",
    "ylabel('The second brain score');\n",
    "title('Behavioral scores - L_X');\n",
    "axis square;\n",
    "box off;\n"
   ]
  },
  {
   "cell_type": "markdown",
   "metadata": {},
   "source": [
    "The PCA style plot of L_Y shows that the first behavior score (X-axis) separates NC1 from NC2 and NC3, while the second behavior score (Y-axis) separates AD1, PD2 and PD3 from AD2, AD3, and PD2."
   ]
  },
  {
   "cell_type": "code",
   "execution_count": 9,
   "metadata": {
    "collapsed": false
   },
   "outputs": [
    {
     "data": {
      "image/png": "[encoded data removed]",
      "text/plain": [
       "<IPython.core.display.Image object>"
      ]
     },
     "metadata": {},
     "output_type": "display_data"
    }
   ],
   "source": [
    "figure; \n",
    "plot([-3 3], [0 0], 'k:'); hold on;\n",
    "plot([0 0], [-3 3], 'k:');\n",
    "for ii = 1:9\n",
    "    text(L_Y(ii,1), L_Y(ii,2), sbjLabel{ii});\n",
    "end\n",
    "\n",
    "xlim([-1 1]);\n",
    "ylim([-1 1]);\n",
    "\n",
    "xlabel('The first behavior score');\n",
    "ylabel('The second behavior score');\n",
    "title('Brain scores - L_Y');\n",
    "axis square;\n",
    "box off;"
   ]
  },
  {
   "cell_type": "code",
   "execution_count": 10,
   "metadata": {
    "collapsed": false
   },
   "outputs": [
    {
     "data": {
      "image/png": "[encoded data removed]",
      "text/plain": [
       "<IPython.core.display.Image object>"
      ]
     },
     "metadata": {},
     "output_type": "display_data"
    }
   ],
   "source": [
    "% making null distribution of singular values by permutation\n",
    "\n",
    "numBoot = 2000;\n",
    "nullSV = nan(numBoot,1);\n",
    "\n",
    "orgX = [X1; X2; X3];\n",
    "\n",
    "for ii = 1:numBoot\n",
    "    permIdx = randperm(9);\n",
    "    bootR = [normMat(Y1)' * normMat(orgX(permIdx(1:3),:)); ...\n",
    "             normMat(Y2)' * normMat(orgX(permIdx(4:6),:)); ...\n",
    "             normMat(Y3)' * normMat(orgX(permIdx(7:9),:))];\n",
    "    [bU, bS] = svd(bootR);\n",
    "    % only keep the largest S\n",
    "    nullSV(ii) = bS(1,1);\n",
    "end\n",
    "\n",
    "figure; \n",
    "hist(nullSV); hold on;\n",
    "plot(S(1,1)*[1 1], [0 600], 'r-');"
   ]
  },
  {
   "cell_type": "markdown",
   "metadata": {},
   "source": [
    "### Mean-centered task PLSC\n",
    "\n",
    "Mean-centered task PLSC is used when the I observations are structured into N groups or conditions. When using mean-centered task PLSC, the observations in X are arranaged according to these N experimental conditions and Y is a matrix of dummy coding that codes for the experimental groups or conditions."
   ]
  },
  {
   "cell_type": "code",
   "execution_count": 11,
   "metadata": {
    "collapsed": false
   },
   "outputs": [
    {
     "name": "stdout",
     "output_type": "stream",
     "text": [
      "Y_dc =\r\n",
      "\r\n",
      "     1     0     0\r\n",
      "     1     0     0\r\n",
      "     1     0     0\r\n",
      "     0     1     0\r\n",
      "     0     1     0\r\n",
      "     0     1     0\r\n",
      "     0     0     1\r\n",
      "     0     0     1\r\n",
      "     0     0     1\n"
     ]
    }
   ],
   "source": [
    "% dummy coding for AD, PD & NC\n",
    "Y_dc = [1 0 0; ... % AD1\n",
    "        1 0 0; ... % AD2\n",
    "        1 0 0; ... % AD3\n",
    "        ...\n",
    "        0 1 0; ... % PD1\n",
    "        0 1 0; ... % PD2\n",
    "        0 1 0; ... % PD3\n",
    "        ...\n",
    "        0 0 1; ... % NC1\n",
    "        0 0 1; ... % NC2\n",
    "        0 0 1]     % NC3"
   ]
  },
  {
   "cell_type": "code",
   "execution_count": 12,
   "metadata": {
    "collapsed": false
   },
   "outputs": [
    {
     "name": "stdout",
     "output_type": "stream",
     "text": [
      "M =\r\n",
      "\r\n",
      "    3.6667    4.6667    6.0000    4.0000    8.0000    3.0000    5.3333    6.0000    4.3333    2.0000    6.3333    2.6667\r\n",
      "    2.0000    4.3333    6.0000    4.6667    1.0000    3.3333    6.6667    3.6667    3.6667    4.0000    5.6667    5.0000\r\n",
      "    8.0000    2.3333    5.6667    3.6667    8.0000    6.6667    5.0000    4.0000    3.3333    6.6667    4.3333    7.6667\n"
     ]
    }
   ],
   "source": [
    "% The average for each condition is then computed and stored in an N x J matrix, denoted M, which is computed as:\n",
    "\n",
    "M = [mean(X1); mean(X2); mean(X3)]\n"
   ]
  },
  {
   "cell_type": "code",
   "execution_count": 13,
   "metadata": {
    "collapsed": false
   },
   "outputs": [
    {
     "name": "stdout",
     "output_type": "stream",
     "text": [
      "R_mc =\r\n",
      "\r\n",
      "   -0.8889    0.8889    0.1111   -0.1111    2.3333   -1.3333   -0.3333    1.4444    0.5556   -2.2222    0.8889   -2.4444\r\n",
      "   -2.5556    0.5556    0.1111    0.5556   -4.6667   -1.0000    1.0000   -0.8889   -0.1111   -0.2222    0.2222   -0.1111\r\n",
      "    3.4444   -1.4444   -0.2222   -0.4444    2.3333    2.3333   -0.6667   -0.5556   -0.4444    2.4444   -1.1111    2.5556\n"
     ]
    }
   ],
   "source": [
    "% Each column of matrix M is then mean-centered\n",
    "\n",
    "R_mc = M - repmat(mean(M), 3, 1)"
   ]
  },
  {
   "cell_type": "code",
   "execution_count": 14,
   "metadata": {
    "collapsed": false
   },
   "outputs": [
    {
     "name": "stdout",
     "output_type": "stream",
     "text": [
      "U =\r\n",
      "\r\n",
      "   -0.1992    0.7918    0.5774\r\n",
      "   -0.5861   -0.5684    0.5774\r\n",
      "    0.7853   -0.2234    0.5774\r\n",
      "\r\n",
      "\r\n",
      "ans =\r\n",
      "\r\n",
      "    7.8637         0         0\r\n",
      "         0    5.7296         0\r\n",
      "         0         0    0.0000\r\n",
      "\r\n",
      "\r\n",
      "ans =\r\n",
      "\r\n",
      "    0.5570   -0.0036   -0.2373\r\n",
      "   -0.2082    0.1240   -0.5823\r\n",
      "   -0.0333    0.0130   -0.1918\r\n",
      "   -0.0830   -0.0531   -0.2924\r\n",
      "    0.5218    0.6945   -0.0809\r\n",
      "    0.3413   -0.1760    0.2088\r\n",
      "   -0.1327   -0.1193   -0.2096\r\n",
      "   -0.0258    0.3095    0.2413\r\n",
      "   -0.0502    0.1051   -0.2576\r\n",
      "    0.3170   -0.3804   -0.1662\r\n",
      "   -0.1500    0.1441    0.4701\r\n",
      "    0.3254   -0.4264    0.1227\n"
     ]
    }
   ],
   "source": [
    "% SVD of the mean-centered R gives\n",
    "[U, S, V] = svd(R_mc);\n",
    "\n",
    "U\n",
    "S(:,1:3)\n",
    "V(:,1:3)"
   ]
  },
  {
   "cell_type": "code",
   "execution_count": 15,
   "metadata": {
    "collapsed": false
   },
   "outputs": [
    {
     "name": "stdout",
     "output_type": "stream",
     "text": [
      "L_X =\r\n",
      "\r\n",
      "    3.8864    7.2933\r\n",
      "    7.6983    5.7196\r\n",
      "    4.0413    5.4365\r\n",
      "    0.2683   -0.7890\r\n",
      "    4.9292   -5.6452\r\n",
      "    1.3009    1.5023\r\n",
      "   14.4073   -0.1927\r\n",
      "   15.5153   -1.0102\r\n",
      "    8.9304    2.2020\r\n",
      "\r\n",
      "\r\n",
      "zLX =\r\n",
      "\r\n",
      "   -0.5368    1.3947\r\n",
      "    0.1715    1.0083\r\n",
      "   -0.5080    0.9388\r\n",
      "   -1.2092   -0.5898\r\n",
      "   -0.3431   -1.7821\r\n",
      "   -1.0173   -0.0272\r\n",
      "    1.4182   -0.4433\r\n",
      "    1.6241   -0.6441\r\n",
      "    0.4005    0.1446\n"
     ]
    }
   ],
   "source": [
    "% brain scores:\n",
    "L_X = [X1; X2; X3] * V(:,1:2)\n",
    "zLX = zscore(L_X)"
   ]
  },
  {
   "cell_type": "code",
   "execution_count": 16,
   "metadata": {
    "collapsed": false
   },
   "outputs": [
    {
     "data": {
      "image/png": "[encoded data removed]",
      "text/plain": [
       "<IPython.core.display.Image object>"
      ]
     },
     "metadata": {},
     "output_type": "display_data"
    }
   ],
   "source": [
    "figure; \n",
    "plot([-3 3], [0 0], 'k:'); hold on;\n",
    "plot([0 0], [-3 3], 'k:');\n",
    "for ii = 1:9\n",
    "    text(zLX(ii,1), zLX(ii,2), sbjLabel{ii});\n",
    "end\n",
    "\n",
    "xlim([-1 1]*2);\n",
    "ylim([-1 1]*2);\n",
    "\n",
    "xlabel('The first brain score');\n",
    "ylabel('The second brain score');\n",
    "title('Brain scores maximally separating the sbj groups');\n",
    "axis square;\n",
    "box off;\n"
   ]
  },
  {
   "cell_type": "code",
   "execution_count": null,
   "metadata": {
    "collapsed": true
   },
   "outputs": [],
   "source": []
  },
  {
   "cell_type": "code",
   "execution_count": null,
   "metadata": {
    "collapsed": true
   },
   "outputs": [],
   "source": []
  }
 ],
 "metadata": {
  "kernelspec": {
   "display_name": "Matlab",
   "language": "matlab",
   "name": "matlab"
  },
  "language_info": {
   "codemirror_mode": "octave",
   "file_extension": ".m",
   "help_links": [
    {
     "text": "MetaKernel Magics",
     "url": "https://github.com/calysto/metakernel/blob/master/metakernel/magics/README.md"
    }
   ],
   "mimetype": "text/x-matlab",
   "name": "matlab",
   "version": "0.8.0"
  }
 },
 "nbformat": 4,
 "nbformat_minor": 0
}
